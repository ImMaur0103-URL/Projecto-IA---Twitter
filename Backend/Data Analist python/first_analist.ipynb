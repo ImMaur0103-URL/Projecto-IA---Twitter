{
 "cells": [
  {
   "cell_type": "markdown",
   "metadata": {},
   "source": [
    "# Primera Etapa\n",
    "En esta etapa solo traemos datos y los previsualizamos\n",
    "\n",
    "Se decidió Generar esta función con el fin de poder limpiar la data ya que el texto de algunos tweets es un poco extenso y puede llevar el modelo en mal camino.\n"
   ]
  },
  {
   "cell_type": "code",
   "execution_count": null,
   "metadata": {},
   "outputs": [
    {
     "ename": "",
     "evalue": "",
     "output_type": "error",
     "traceback": [
      "\u001b[1;31mFailed to start the Kernel '.venv (Python 3.11.9)'. \n",
      "\u001b[1;31mView Jupyter <a href='command:jupyter.viewOutput'>log</a> for further details. WebSocket is not defined"
     ]
    }
   ],
   "source": [
    "import pandas as pd\n",
    "import re\n",
    "import pickle\n",
    "from sklearn.model_selection import train_test_split"
   ]
  },
  {
   "cell_type": "code",
   "execution_count": null,
   "metadata": {},
   "outputs": [],
   "source": [
    "df = pd.read_csv('..\\\\Data\\\\MainData\\\\sentiment_analysis_dataset.csv')\n",
    "df.head()"
   ]
  },
  {
   "cell_type": "code",
   "execution_count": null,
   "metadata": {},
   "outputs": [],
   "source": [
    "def limpiar_texto(texto):\n",
    "    # Quitar menciones\n",
    "    texto = re.sub(r'@\\w+', '', texto)\n",
    "    # Quitar hashtags (solo el símbolo #, no la palabra)\n",
    "    texto = re.sub(r'#', '', texto)\n",
    "    # Quitar URLs\n",
    "    texto = re.sub(r'https?:\\/\\/\\S+', '', texto)\n",
    "    # Quitar signos de puntuación, pero permitir letras con tilde y ñ\n",
    "    texto = re.sub(r'[^\\w\\sáéíóúÁÉÍÓÚñÑ]', '', texto)\n",
    "    # Quitar espacios múltiples\n",
    "    texto = re.sub(r'\\s+', ' ', texto).strip()\n",
    "    return texto"
   ]
  },
  {
   "cell_type": "markdown",
   "metadata": {},
   "source": [
    "# Segunda Etapa\n",
    "En esta etapa se procedio a limpiar datos y reordenar los mismos al mapiar los sentimientos.\n",
    "hay dos que pueden ser inutiles como los emojies en algunos comentarios."
   ]
  },
  {
   "cell_type": "code",
   "execution_count": null,
   "metadata": {},
   "outputs": [],
   "source": [
    "df['clean_text'] = df['text'].apply(limpiar_texto)\n",
    "df[['text', 'clean_text']].head(20)"
   ]
  },
  {
   "cell_type": "code",
   "execution_count": null,
   "metadata": {},
   "outputs": [],
   "source": [
    "df['date'] = pd.to_datetime(df['date'], format='%b %d, %Y · %I:%M %p UTC', errors='coerce')\n",
    "df['date'].isnull().sum()"
   ]
  },
  {
   "cell_type": "code",
   "execution_count": null,
   "metadata": {},
   "outputs": [],
   "source": [
    "sentiment_map = {\n",
    "    'scared': 0,\n",
    "    'sad': 0,\n",
    "    'mad': 0,\n",
    "    'peaceful': 1,\n",
    "    'joyful': 2,\n",
    "    'powerful': 2\n",
    "}\n",
    "\n",
    "df['sentiment_label'] = df['sentiment'].map(sentiment_map)"
   ]
  },
  {
   "cell_type": "code",
   "execution_count": null,
   "metadata": {},
   "outputs": [],
   "source": [
    "df['date'].head()"
   ]
  },
  {
   "cell_type": "code",
   "execution_count": null,
   "metadata": {},
   "outputs": [],
   "source": [
    "df[['sentiment', 'sentiment_label']].drop_duplicates()"
   ]
  },
  {
   "cell_type": "markdown",
   "metadata": {},
   "source": [
    "# Tercera Etapa\n",
    "Almacenamiento de datos y divicion de los mismos"
   ]
  },
  {
   "cell_type": "code",
   "execution_count": null,
   "metadata": {},
   "outputs": [],
   "source": [
    "with open('..\\\\Data\\\\CleanData\\\\sentiment_data_limpio.pkl', 'wb') as archivo:\n",
    "    pickle.dump(df, archivo)"
   ]
  },
  {
   "cell_type": "code",
   "execution_count": null,
   "metadata": {},
   "outputs": [],
   "source": [
    "X = df['clean_text']\n",
    "y = df['sentiment_label']"
   ]
  },
  {
   "cell_type": "code",
   "execution_count": null,
   "metadata": {},
   "outputs": [],
   "source": [
    "X_train, X_test, y_train, y_test = train_test_split(\n",
    "    X, y, test_size=0.2, random_state=42, stratify=y\n",
    ")"
   ]
  },
  {
   "cell_type": "code",
   "execution_count": null,
   "metadata": {},
   "outputs": [],
   "source": [
    "print(f\"Entrenamiento: {len(X_train)} muestras\")\n",
    "print(f\"Prueba: {len(X_test)} muestras\")"
   ]
  }
 ],
 "metadata": {
  "kernelspec": {
   "display_name": ".venv",
   "language": "python",
   "name": "python3"
  },
  "language_info": {
   "codemirror_mode": {
    "name": "ipython",
    "version": 3
   },
   "file_extension": ".py",
   "mimetype": "text/x-python",
   "name": "python",
   "nbconvert_exporter": "python",
   "pygments_lexer": "ipython3",
   "version": "3.11.9"
  }
 },
 "nbformat": 4,
 "nbformat_minor": 2
}
